{
  "nbformat": 4,
  "nbformat_minor": 0,
  "metadata": {
    "colab": {
      "provenance": [],
      "include_colab_link": true
    },
    "kernelspec": {
      "name": "python3",
      "display_name": "Python 3"
    },
    "language_info": {
      "name": "python"
    }
  },
  "cells": [
    {
      "cell_type": "markdown",
      "metadata": {
        "id": "view-in-github",
        "colab_type": "text"
      },
      "source": [
        "<a href=\"https://colab.research.google.com/github/dpnaire/matematicas/blob/main/practicas/practica_combinatoria.ipynb\" target=\"_parent\"><img src=\"https://colab.research.google.com/assets/colab-badge.svg\" alt=\"Open In Colab\"/></a>"
      ]
    },
    {
      "cell_type": "markdown",
      "source": [
        "# Práctica 1. Combinatoria\n",
        "Resuelva los siguientes apartados de la práctica.  \n",
        "La práctica 1.1 se proporciona solucionada para que pueda servir como ejemplo.\n"
      ],
      "metadata": {
        "id": "VP-PLgSCPtPC"
      }
    },
    {
      "cell_type": "markdown",
      "source": [
        "## Práctica 1.1\n",
        "Cuatro amigos:\n",
        "* Antonio (A)\n",
        "* Begoña (B)\n",
        "* Cesar (C)\n",
        "* Diana (D)\n",
        "\n",
        "constituyen una asociación y tienen que asignar los siguientes cargos:\n",
        "* Presiente (1)\n",
        "* Vicepresidente (2)\n",
        "* Secretario (3)\n",
        "* Tesorero (4)\n",
        "\n",
        "Se pide:\n",
        "1. Escribiendo la solución en una celda de Markdown analice el caso indicando si se trata de variaciones, permutaciones o combinaciones, con o sin repetición o el caso que sea, y el motivo para clasificar el caso de esta forma.\n",
        "2. Utilizando fórmulas de $\\LaTeX$ calcule cuántos casos existen.\n",
        "3. Cree un programa en Python para calcule cuántos casos existen.\n",
        "4. Cree un programa en Python para imprimir todas las posibilidades y numérelas. Por ejemplo:\n",
        "    - 1 ABCD\n",
        "    - 2 ABDC\n",
        "    - 3 ACBD\n",
        "    - &#20; &#20; &#20; ... ... ..."
      ],
      "metadata": {
        "id": "6oyoxqfbQJDC"
      }
    },
    {
      "cell_type": "markdown",
      "source": [
        "### Solución 1.1\n",
        "* Estamos ante un caso de **permutaciones sin repetición** ya que:\n",
        " - El orden importa, no es lo mismo estar el nº1 que significa ser presidente que el nº 4 que corresponde al tesorero.\n",
        " - Intervienen todos. Son 4 amigos para 4 cargos, todos tienen cargo, lo que cambiar es el orden, esto es, el cargo que obtengan.\n",
        " - No se repiten elementos. Una persona no puede tener dos cargos simultaneamente.\n",
        "* Los casos que se obtienen con las permutaciones sin repetición son $P_{n}=n!$ que para este ejemplo son:\n",
        "\n",
        "$$P_{4}=4!=4 \\cdot 3 \\cdot 2 \\cdot 1 = 24$$"
      ],
      "metadata": {
        "id": "t5unIqR7jdZR"
      }
    },
    {
      "cell_type": "code",
      "source": [
        "import math\n",
        "p = math.factorial(4)\n",
        "print(\"Los casos son: \", p)\n",
        "print(\"Comprobación:  \", 4*3*2*1)"
      ],
      "metadata": {
        "id": "va3_l_-hmFS-",
        "colab": {
          "base_uri": "https://localhost:8080/"
        },
        "outputId": "df2cbe80-0c23-4fb3-8b8c-dab08ac617ef"
      },
      "execution_count": 1,
      "outputs": [
        {
          "output_type": "stream",
          "name": "stdout",
          "text": [
            "Los casos son:  24\n",
            "Comprobación:   24\n"
          ]
        }
      ]
    },
    {
      "cell_type": "markdown",
      "source": [
        "#### Método 1\n",
        "Sin usar librería."
      ],
      "metadata": {
        "id": "kOM3pEAGnh8v"
      }
    },
    {
      "cell_type": "code",
      "source": [
        "lista = ['A', 'B', 'C', 'D']\n",
        "contador = 1\n",
        "\n",
        "for i in lista:\n",
        "    for j in lista:\n",
        "        for k in lista:\n",
        "            for l in lista:\n",
        "                if i != j and i != k and i != l and j != k and j != l and k != l:\n",
        "                    print(f\"{contador:2d} →  {i+j+k+l}\")\n",
        "                    contador += 1"
      ],
      "metadata": {
        "id": "5--ZpSoJncj3"
      },
      "execution_count": null,
      "outputs": []
    },
    {
      "cell_type": "markdown",
      "source": [
        "#### Método 2\n",
        "* Usamos la función `permutations` de la librería `itertools`.\n",
        "* Imprimimos todas las permutaciones de los elementos de una lista."
      ],
      "metadata": {
        "id": "2PoCD5GlnwS1"
      }
    },
    {
      "cell_type": "code",
      "source": [
        "from itertools import permutations\n",
        "\n",
        "perm = permutations(['A','B','C','D'])   # obtenemos todas las permutaciones de la lista \n",
        "\n",
        "for i in list(perm):                     # imprimimos todas las permutaciones \n",
        "    print (*i)                           # con el asterisco se muestran las listas sin corchetes ni comas"
      ],
      "metadata": {
        "id": "eKkB1gQnn6_P"
      },
      "execution_count": null,
      "outputs": []
    },
    {
      "cell_type": "markdown",
      "source": [
        "## Práctica 1.2\n",
        "Cuatro amigos:\n",
        "* Antonio (A)\n",
        "* Begoña (B)\n",
        "* Cesar (C)\n",
        "* Diana (D)\n",
        "\n",
        "constituyen una asociación y tienen que asignar los siguientes cargos:\n",
        "* Presiente (1)\n",
        "* Secretario (3)\n",
        "* Tesorero (4)\n",
        "\n",
        "Se pide:\n",
        "1. Escribiendo la solución en una celda de Markdown analice el caso indicando si se trata de variaciones, permutaciones o combinaciones, con o sin repetición o el caso que sea, y el motivo para clasificar el caso de esta forma.\n",
        "2. Utilizando fórmulas de $\\LaTeX$ calcule cuántos casos existen.\n",
        "3. Cree un programa en Python para calcule cuántos casos existen.\n",
        "4. Cree un programa en Python para imprimir todas las posibilidades y numérelas. Por ejemplo:\n",
        "    - 1 ABC\n",
        "    - 2 ABD\n",
        "    - 3 ACB\n",
        "    - &#20; &#20; &#20; ... ... ..."
      ],
      "metadata": {
        "id": "sxSuCpAFSBPJ"
      }
    },
    {
      "cell_type": "markdown",
      "source": [
        "### Solución 1.2"
      ],
      "metadata": {
        "id": "xx9qsw_ej9Pd"
      }
    },
    {
      "cell_type": "markdown",
      "source": [
        "* Nos encontramos ante un caso de **variaciones sin repetición** debido a que:\n",
        " - El orden importa, ya que no es lo mismo que A,B,C o D ocupen un puesto u otro.\n",
        " - En este caso no intervienen todos. Son 4 amigos para 3 cargos, y no todos tienen cargo, una vez ocupados los 3 cargos, uno de los amigos se quedará sin, y cuando un amigo ocupe un cargo, los otros 3 aspirarán a los dos restantes.\n",
        " - No se pueden repetir elementos. Uno de los amigos no puede tener dos cargos simultaneamente, solo aspira a 1 único cargo de entre los que haya restantes en ese momento.\n",
        "\n",
        "* Los casos que se obtienen con las variaciones sin repetición son $V^r_n=\\frac{n!}{(n-r)!}$ que para este ejemplo son:\n",
        "\n",
        "$$V^r_n=\\frac{n!}{(n-r)!}=\\frac{4!}{(4-3)!}=\\frac{4!}{1!}=\\frac{4 \\cdot 3 \\cdot 2 \\cdot 1!}{1!}=4 \\cdot 3 \\cdot 2 =24$$"
      ],
      "metadata": {
        "id": "BjmgJPtJFIqA"
      }
    },
    {
      "cell_type": "code",
      "source": [
        "import math\n",
        "v = math.factorial(4)\n",
        "print(\"Los casos son: \", v)\n",
        "print(\"Comprobación: \", 4*3*2*1)"
      ],
      "metadata": {
        "colab": {
          "base_uri": "https://localhost:8080/"
        },
        "id": "bp5x6U1pW-as",
        "outputId": "e70ca02d-00ce-4700-e04c-9cccd92f7636"
      },
      "execution_count": 2,
      "outputs": [
        {
          "output_type": "stream",
          "name": "stdout",
          "text": [
            "Los casos son:  24\n",
            "Comprobación:  24\n"
          ]
        }
      ]
    },
    {
      "cell_type": "code",
      "source": [
        "lista = ['A', 'B', 'C', 'D'] #SOLUCIÓN 1.2\n",
        "contador = 1\n",
        "enumerate(lista)\n",
        "for i in lista:\n",
        "    for j in lista:\n",
        "        for k in lista:\n",
        "            for l in lista:\n",
        "                if i != j and i != k and i != l and j != k and j != l and k != l:\n",
        "                    print(f\"{contador:2d} →  {i+j+k+l}\")\n",
        "                    contador += 1"
      ],
      "metadata": {
        "colab": {
          "base_uri": "https://localhost:8080/"
        },
        "id": "72hwlh9eXgcp",
        "outputId": "89e7b260-7bef-461c-e570-a16e2458c3aa"
      },
      "execution_count": 3,
      "outputs": [
        {
          "output_type": "stream",
          "name": "stdout",
          "text": [
            " 1 →  ABCD\n",
            " 2 →  ABDC\n",
            " 3 →  ACBD\n",
            " 4 →  ACDB\n",
            " 5 →  ADBC\n",
            " 6 →  ADCB\n",
            " 7 →  BACD\n",
            " 8 →  BADC\n",
            " 9 →  BCAD\n",
            "10 →  BCDA\n",
            "11 →  BDAC\n",
            "12 →  BDCA\n",
            "13 →  CABD\n",
            "14 →  CADB\n",
            "15 →  CBAD\n",
            "16 →  CBDA\n",
            "17 →  CDAB\n",
            "18 →  CDBA\n",
            "19 →  DABC\n",
            "20 →  DACB\n",
            "21 →  DBAC\n",
            "22 →  DBCA\n",
            "23 →  DCAB\n",
            "24 →  DCBA\n"
          ]
        }
      ]
    },
    {
      "cell_type": "markdown",
      "source": [
        "## Práctica 1.3\n",
        "Invente un caso de **variaciones sin repetición**.\n",
        "Se pide contestar a los mismos puntos que el caso anterior."
      ],
      "metadata": {
        "id": "D0S1DjF4MKmz"
      }
    },
    {
      "cell_type": "markdown",
      "source": [
        "### Solución 1.3"
      ],
      "metadata": {
        "id": "AfyuPIASj_20"
      }
    },
    {
      "cell_type": "markdown",
      "source": [
        "\n",
        "Tenemos 5 personas distintas las cuales van a formar grupos de 4 personas para un trabajo donde en cada grupo van a tener una función distinta dependiendo del orden de los integrantes del grupo:\n",
        "\n",
        "* Nos encontramos ante un caso de **variaciones sin repetición** debido a que:\n",
        " - El orden importa, ya que no es lo mismo que A,B,C,D o E formen un grupo en un orden u otro ya que tendrán funciones distintas.\n",
        " - En este caso no intervienen todos. Son 5 personas para grupos de 4 miembros, y no todos ocuparán puesto en el grupo, una vez ocupados los 4 miembros del grupo, uno de las personas se quedará sin pertener a este.\n",
        " - No se pueden repetir elementos. Una de las personas no puede ocupar 2 espacios en el grupo.\n",
        "\n",
        "* Los casos que se obtienen con las variaciones sin repetición son $V^r_n=\\frac{n!}{(n-r)!}$ que para este ejemplo son:\n",
        "\n",
        "$$V^r_n=\\frac{n!}{(n-r)!}=\\frac{5!}{(5-4)!}=\\frac{5!}{1!}=\\frac{5 \\cdot 4 \\cdot 3 \\cdot 2 \\cdot 1!}{1!}=5 \\cdot 4 \\cdot 3 \\cdot 2=120$$"
      ],
      "metadata": {
        "id": "JZfQ4b2dYZwj"
      }
    },
    {
      "cell_type": "code",
      "source": [
        "import itertools\n",
        "it = itertools.permutations(['1','2','3','4','5'],4)\n",
        "li = list(it)\n",
        "\n",
        "print()\n",
        "\n",
        "for i in range(len(li)):\n",
        "    print(f\"Variación {i+1:2d}: \", *li[i])"
      ],
      "metadata": {
        "id": "UfvpdmXzbsF1"
      },
      "execution_count": null,
      "outputs": []
    },
    {
      "cell_type": "markdown",
      "source": [
        "## Práctica 1.4\n",
        "Invente un caso de **variaciones con repetición**.\n",
        "Se pide contestar a los mismos puntos que el caso anterior."
      ],
      "metadata": {
        "id": "gvlnqCaRMTua"
      }
    },
    {
      "cell_type": "markdown",
      "source": [
        "### Solución 1.4"
      ],
      "metadata": {
        "id": "hzvsgRDbkCy1"
      }
    },
    {
      "cell_type": "markdown",
      "source": [
        "\n",
        "¿Cuántos números de 3 cifras se pueden formar con los dígitos: 1, 2, 3, 4?\n",
        "\n",
        "* Nos encontramos ante un caso de **variaciones con repetición** debido a que:\n",
        " - El orden importa, ya que no es lo mismo un número como 123 a 231 habiendo cogido los mismos elementos.\n",
        " - En este caso no intervienen todos. Son números de 3 cifras y nosotros contamos con 4 dígitos.\n",
        " - Se pueden repetir elementos. Ya que hay números de 3 cifras donde podemos llegar a tener repetido un dígito 2 o hasta 3 veces como 332 o 333.\n",
        "\n",
        "* Los casos que se obtienen con las variaciones sin repetición son $VR_{m}^{n}=m^{n}$ que para este ejemplo son:\n",
        "\n",
        "$$VR_{4}^{3}=4^{3}=64$$"
      ],
      "metadata": {
        "id": "AA6cWvSqfxIj"
      }
    },
    {
      "cell_type": "code",
      "source": [
        "import itertools \n",
        "\n",
        "def variaciones_con_repeticion(n, seq):\n",
        "      contador=0\n",
        "      for p in itertools.product(seq, repeat=n):\n",
        "            contador+= 1\n",
        "            print(contador, \"\".join(p))\n",
        "\n",
        "secuencia = '1234'\n",
        "m= len(secuencia)\n",
        "n= 3\n",
        "variaciones_con_repeticion(n,secuencia)\n",
        "\n",
        "print(f\"El número de variaciones con repetición de {m} elementos tomados de {n} en {n} son {m**n}\")"
      ],
      "metadata": {
        "id": "mOvO1xkqgClg"
      },
      "execution_count": null,
      "outputs": []
    },
    {
      "cell_type": "markdown",
      "source": [
        "## Práctica 1.5\n",
        "Invente un caso de **permutaciones sin repetición**.\n",
        "Se pide contestar a los mismos puntos que el caso anterior."
      ],
      "metadata": {
        "id": "0OCAC-I-G5F6"
      }
    },
    {
      "cell_type": "markdown",
      "source": [
        "### Solución 1.5"
      ],
      "metadata": {
        "id": "FvLcj6XXkFOV"
      }
    },
    {
      "cell_type": "markdown",
      "source": [
        "Cuatro personas se quieren sentar en una grada con 4 huecos libres ¿Cuáles son las maneras posibles?\n",
        "\n",
        "* Nos encontramos ante un caso de **permutaciones sin repetición** debido a que:\n",
        " - El orden importa, ya que no es lo mismo que se coloquen ABCD a ACBD o cualquier otro orden en los sitios de la grada libre.\n",
        " - En este caso sí intervienen todos. Hay 4 asientos y 4 personas para ocupar dichos huecos.\n",
        " - No se pueden repetir elementos. Una persona no puede ocupar 2 huecos o más a la vez.\n",
        "\n",
        "* Los casos que se obtienen con las permutaciones sin repetición son $P_{n}=n!$ que para este ejemplo son:\n",
        "\n",
        "$$P_{4}=4!=4 \\cdot 3 \\cdot 2 \\cdot 1 = 24$$"
      ],
      "metadata": {
        "id": "eYMpCafEhitB"
      }
    },
    {
      "cell_type": "code",
      "source": [
        "lista = ['A', 'B', 'C', 'D']\n",
        "contador = 1\n",
        "\n",
        "for i in lista:\n",
        "    for j in lista:\n",
        "        for k in lista:\n",
        "\n",
        "                if i != j and i != k and j != k :\n",
        "                    print(f\"{contador:2d} →  {i+j+k}\")\n",
        "                    contador += 1"
      ],
      "metadata": {
        "colab": {
          "base_uri": "https://localhost:8080/"
        },
        "id": "49V8OrHujYAF",
        "outputId": "ee4184d1-73c9-4c91-a445-675c4ea2f2fa"
      },
      "execution_count": 7,
      "outputs": [
        {
          "output_type": "stream",
          "name": "stdout",
          "text": [
            " 1 →  ABC\n",
            " 2 →  ABD\n",
            " 3 →  ACB\n",
            " 4 →  ACD\n",
            " 5 →  ADB\n",
            " 6 →  ADC\n",
            " 7 →  BAC\n",
            " 8 →  BAD\n",
            " 9 →  BCA\n",
            "10 →  BCD\n",
            "11 →  BDA\n",
            "12 →  BDC\n",
            "13 →  CAB\n",
            "14 →  CAD\n",
            "15 →  CBA\n",
            "16 →  CBD\n",
            "17 →  CDA\n",
            "18 →  CDB\n",
            "19 →  DAB\n",
            "20 →  DAC\n",
            "21 →  DBA\n",
            "22 →  DBC\n",
            "23 →  DCA\n",
            "24 →  DCB\n"
          ]
        }
      ]
    },
    {
      "cell_type": "markdown",
      "source": [
        "## Práctica 1.6\n",
        "Invente un caso de **permutaciones con repetición**.\n",
        "Se pide contestar a los mismos puntos que el caso anterior."
      ],
      "metadata": {
        "id": "YWUXIczqLj3W"
      }
    },
    {
      "cell_type": "markdown",
      "source": [
        "### Solución 1.6"
      ],
      "metadata": {
        "id": "siAxWVVekHs6"
      }
    },
    {
      "cell_type": "markdown",
      "source": [
        "Cuatro personas van a competir en 4 categorías distintas, en las cuales pueden ganar más de una categoría aun habiendo ganado en cualquier otra anteriormente.\n",
        "\n",
        "* Nos encontramos ante un caso de **permutaciones con repetición** debido a que:\n",
        " - El orden importa, ya que no es lo mismo que dichas personas ganen en una/s categoría/s u otra/s.\n",
        " - En este caso sí intervienen todos. Hay 4 personas y 4 categorías en las que van a participar.\n",
        " - Se pueden repetir elementos. Una persona puede ganar más de una categoría.\n",
        "\n",
        "* Los casos que se obtienen con las permutaciones con repetición son $P_n=n^{r}$ que para este ejemplo son:\n",
        "\n",
        "$$P_4=4^{4} = 256$$\n",
        "\n"
      ],
      "metadata": {
        "id": "Aol7bWOIjsSF"
      }
    },
    {
      "cell_type": "code",
      "source": [
        "lista = ['4', '3', '2', '1']\n",
        "\n",
        "for i in lista:\n",
        "    for j in lista:\n",
        "        for k in lista:\n",
        "            for l in lista:\n",
        "                print(i + j + k + l)"
      ],
      "metadata": {
        "id": "ZC5bjiylmbC1"
      },
      "execution_count": null,
      "outputs": []
    },
    {
      "cell_type": "markdown",
      "source": [
        "## Práctica 1.7\n",
        "Invente un caso de **combinaciones sin repetición**.\n",
        "Se pide contestar a los mismos puntos que el caso anterior."
      ],
      "metadata": {
        "id": "opCrIDtJGg1R"
      }
    },
    {
      "cell_type": "markdown",
      "source": [
        "### Solución 1.7"
      ],
      "metadata": {
        "id": "Zs46BsRnkJcl"
      }
    },
    {
      "cell_type": "markdown",
      "source": [
        "Una pareja está cenando en un restaurante y el menú tiene los siguientes postres a elegir, se han puesto de acuerdo para elegir un postre distinto y así compartirlos:\n",
        "\n",
        "- Tarta de chocolate (A)\n",
        "- Yogurt (B)\n",
        "- Helado (C)\n",
        "- Arroz con leche (D)\n",
        "- Tarta de queso (E)\n",
        "- Mousse de limón (F)\n",
        "- Mousse de fresa (G)\n",
        "¿De cuantas maneras diferentes puede escoger la pareja de 2 sus postres?\n",
        "\n",
        "* Nos encontramos ante un caso de **combinaciones sin repetición** debido a que:\n",
        " - El orden no importa, ya que no va a influir si escogen un postre antes u otro.\n",
        " - En este caso no intervienen todos. Hay 7 postres y 2 personas a elegir dichos postres.\n",
        " - No se pueden repetir elementos. La pareja no quiere pedir el mismo postre, quieren pedir uno distinto cada uno.\n",
        "\n",
        "* Los casos que se obtienen con las combinaciones sin repetición son $C^n_m = C_{m,n} = \\binom{m}{n} = \\frac{m!}{n!(m-n)!} \\quad m \\geq n$ que para este ejemplo son:\n",
        "\n",
        "$$C^2_7 = 21$$"
      ],
      "metadata": {
        "id": "dJVHL79uoW4B"
      }
    },
    {
      "cell_type": "code",
      "source": [
        "from itertools import combinations\n",
        "\n",
        "Postres = [\"A\",\"B\",\"C\",\"D\",\"E\",\"F\",\"G\",]\n",
        "\n",
        "n = 0\n",
        "combi = []\n",
        "\n",
        "while n < len(Postres):\n",
        "    for i in Postres:\n",
        "        for g in Postres:\n",
        "            if i != g and g + i not in combi:\n",
        "                c = i + g\n",
        "                combi.append(c)\n",
        "                n += 1\n",
        "                print (n,c)"
      ],
      "metadata": {
        "colab": {
          "base_uri": "https://localhost:8080/"
        },
        "id": "xoTRrpD2rsHT",
        "outputId": "3b3db123-839a-4ea7-89a3-cfafc63486de"
      },
      "execution_count": 10,
      "outputs": [
        {
          "output_type": "stream",
          "name": "stdout",
          "text": [
            "1 AB\n",
            "2 AC\n",
            "3 AD\n",
            "4 AE\n",
            "5 AF\n",
            "6 AG\n",
            "7 BC\n",
            "8 BD\n",
            "9 BE\n",
            "10 BF\n",
            "11 BG\n",
            "12 CD\n",
            "13 CE\n",
            "14 CF\n",
            "15 CG\n",
            "16 DE\n",
            "17 DF\n",
            "18 DG\n",
            "19 EF\n",
            "20 EG\n",
            "21 FG\n"
          ]
        }
      ]
    },
    {
      "cell_type": "markdown",
      "source": [
        "## Práctica 1.8\n",
        "Invente un caso de **combinaciones con repetición**.\n",
        "Se pide contestar a los mismos puntos que el caso anterior."
      ],
      "metadata": {
        "id": "-7Y5WWlDGzAR"
      }
    },
    {
      "cell_type": "markdown",
      "source": [
        "### Solución 1.8"
      ],
      "metadata": {
        "id": "ReRULqd8kL1F"
      }
    },
    {
      "cell_type": "markdown",
      "source": [
        "Una pareja está cenando en un restaurante y el menú tiene los siguientes postres a elegir, se han puesto de acuerdo para pedir el mismo postre y así ninguno equivocarse y pedir uno más rico:\n",
        "\n",
        " - Tarta de chocolate (A)\n",
        " - Yogurt (B)\n",
        " - Helado (C)\n",
        " - Arroz con leche (D)\n",
        " - Tarta de queso (E)\n",
        " - Mousse de limón (F)\n",
        " - Mousse de fresa (G)\n",
        "\n",
        "¿De cuantas maneras diferentes puede escoger la pareja de 2 sus postres?\n",
        "\n",
        "* Nos encontramos ante un caso de **combinaciones con repetición** debido a que:\n",
        " - El orden no importa, ya que no va a influir si escogen un postre antes u otro.\n",
        " - En este caso no intervienen todos. Hay 7 postres y 2 personas a elegir dichos postres.\n",
        " - Se pueden repetir elementos. La pareja va a pedir el mismo postre.\n",
        "\n",
        "* Los casos que se obtienen con las combinaciones sin repetición son $CR^n_m = CR_{n,m} = C_{n,m+n-1} = \\binom{m+n-1}{n} = \\frac{(m+n-1)!}{n! \\cdot (m-1)!}$ que para este ejemplo son:\n",
        "\n",
        "$$CR _7,_2 = 28$$"
      ],
      "metadata": {
        "id": "q92sKHmbtoUa"
      }
    },
    {
      "cell_type": "code",
      "source": [
        "from itertools import combinations\n",
        "\n",
        "postres = [\"A\",\"B\",\"C\",\"D\",\"E\",\"F\",\"G\",]\n",
        "\n",
        "n = 0\n",
        "combi = []\n",
        "\n",
        "while n < len(postres):\n",
        "    for i in postres:\n",
        "        for g in postres:\n",
        "            if  g + i not in combi:\n",
        "                c = i + g\n",
        "                combi.append(c)\n",
        "                n += 1\n",
        "                print (n,c)"
      ],
      "metadata": {
        "colab": {
          "base_uri": "https://localhost:8080/"
        },
        "id": "P8yYCK81tZ-v",
        "outputId": "d8cdc4e3-0176-40fd-ea74-76af717e1a78"
      },
      "execution_count": 11,
      "outputs": [
        {
          "output_type": "stream",
          "name": "stdout",
          "text": [
            "1 AA\n",
            "2 AB\n",
            "3 AC\n",
            "4 AD\n",
            "5 AE\n",
            "6 AF\n",
            "7 AG\n",
            "8 BB\n",
            "9 BC\n",
            "10 BD\n",
            "11 BE\n",
            "12 BF\n",
            "13 BG\n",
            "14 CC\n",
            "15 CD\n",
            "16 CE\n",
            "17 CF\n",
            "18 CG\n",
            "19 DD\n",
            "20 DE\n",
            "21 DF\n",
            "22 DG\n",
            "23 EE\n",
            "24 EF\n",
            "25 EG\n",
            "26 FF\n",
            "27 FG\n",
            "28 GG\n"
          ]
        }
      ]
    },
    {
      "cell_type": "markdown",
      "source": [
        "## Práctica 1.9\n",
        "En el gobierno se crea una unidad de crisis formada por el presidente (P) y 4 ministros (A,B,C,D) que se reúnen sentados alrededor de una **mesa redonda**.\n",
        "\n",
        "Se pide:  \n",
        "1. Calcule de cuantas formas pueden llegar a sentarse si el ministro de defensa (D) siempre ha de estar al lado del presidente (P). Escriba la solución en una celda de Markdown utilizando fórmulas en $\\LaTeX$  explicando el caso.\n",
        "2. Cree un programa en Python para calcular el número de casos que se pueden dar al sentarse en la mesa.\n",
        "3. Cree un programa en Python para imprimir todas las posibilidades y numérelas. Por ejemplo:\n",
        "    - 1 PDABC\n",
        "    - 2 PDACB\n",
        "    - 3 PDBCD\n",
        "    - 4 PDBDC\n",
        "    - 5 PDCAB\n",
        "    - 6 PDCBA\n",
        "    - 7 DPABC\n",
        "    - 8 DPACB\n",
        "    - &#20; &#20; &#20; ... ... ...\n"
      ],
      "metadata": {
        "id": "SOzxh_YgHnDG"
      }
    },
    {
      "cell_type": "markdown",
      "source": [
        "### Solución 1.9"
      ],
      "metadata": {
        "id": "F8kV034OkQZX"
      }
    },
    {
      "cell_type": "markdown",
      "source": [],
      "metadata": {
        "id": "TEGlxPbwuCyD"
      }
    },
    {
      "cell_type": "markdown",
      "source": [
        "## Práctica 1.10\n",
        "* Realice una breve explicación teórica del **triángulo de Pascal**, o también llamado triángulo de Tartaglia, y de las fórmulas de los números combinatorios.\n",
        "* Cree un programa en Python para hacer el triángulo de Pascal."
      ],
      "metadata": {
        "id": "eiHdMOP-MkrZ"
      }
    },
    {
      "cell_type": "markdown",
      "source": [
        "### Solución 1.10"
      ],
      "metadata": {
        "id": "j0UT2579kTSM"
      }
    },
    {
      "cell_type": "markdown",
      "source": [
        "El triángulo de Pascal se trata de un tipo de patrón numérico en el que los números se organizan de forma que estos formen o se parezcan a un triángulo en el cual los bordes externos serán siempre el número 1.\n",
        "\n",
        "Un número combinatorio está formado por dos números enteros positivos m y n que se colocan uno debajo del otro y encerrados por un paréntesis tal que así:\n",
        "$$\\binom{m}{n} = \\frac{m!}{n!(m-n)!} \\quad m \\geq n$$\n",
        "\n",
        "\n",
        "* Para formar un triángulo pascal en Python habrá que seguir los siguientes pasos:\n",
        "\n",
        " - En primer lugar, se toma un número de entrada del usuario para definir el número de filas.\n",
        " - En segundo lugar, se define una lista vacía, que se utiliza para almacenar valores.\n",
        " - Luego, se utiliza un bucle for para iterar de 0 a n-1 que anexan las sublistas a la lista inicial.\n",
        " - Después de eso, se agrega 1 a la lista.\n",
        " - Luego, se vuelve a utilizar un bucle for para poner los valores del número dentro de la fila adyacente del triángulo.\n",
        " - Finalmente, el Triángulo de Pascal se imprime según el formato indicado"
      ],
      "metadata": {
        "id": "7ltP1F5_wQJF"
      }
    },
    {
      "cell_type": "code",
      "source": [
        "input_num = int(input(\"Enter the number of rows: \"))\n",
        "list = [] #an empty list\n",
        "for n in range(input_num):\n",
        "    list.append([])\n",
        "    list[n].append(1)\n",
        "    for m in range(1, n):\n",
        "        list[n].append(list[n - 1][m - 1] + list[n - 1][m])\n",
        "    if(input_num != 0):\n",
        "        list[n].append(1)\n",
        "for n in range(input_num):\n",
        "    print(\" \" * (input_num - n), end = \" \", sep = \" \")\n",
        "    for m in range(0, n + 1):\n",
        "        print('{0:5}'.format(list[n][m]), end = \" \", sep = \" \")\n",
        "    print()"
      ],
      "metadata": {
        "id": "GmPIqKbCwPvc"
      },
      "execution_count": null,
      "outputs": []
    }
  ]
}